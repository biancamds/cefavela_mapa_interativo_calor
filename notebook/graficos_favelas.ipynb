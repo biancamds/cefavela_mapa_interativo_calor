{
 "cells": [
  {
   "cell_type": "code",
   "execution_count": 1,
   "id": "6c16484d",
   "metadata": {},
   "outputs": [],
   "source": [
    "import pandas as pd\n",
    "import geopandas as gpd\n",
    "import plotly as plt\n",
    "from pathlib import Path\n",
    "import rasterio\n",
    "from rasterstats import zonal_stats\n"
   ]
  },
  {
   "cell_type": "code",
   "execution_count": 2,
   "id": "5bfe1de7",
   "metadata": {},
   "outputs": [],
   "source": [
    "root_dir = Path.cwd().resolve().parent\n",
    "data_dir = root_dir / \"data\"\n",
    "\n",
    "caminho_geotiff = data_dir / \"raster_html.tif\"\n",
    "caminho_favelas = data_dir / \"all_favelas_sp_2022.gpkg\""
   ]
  },
  {
   "cell_type": "code",
   "execution_count": 3,
   "id": "7c68855b",
   "metadata": {},
   "outputs": [],
   "source": [
    "gdf_favelas = gpd.read_file(caminho_favelas)\n",
    "\n",
    "with rasterio.open(caminho_geotiff) as src:\n",
    "    raster_crs = src.crs\n",
    "    raster_nodata = src.nodata\n",
    "\n",
    "# projeta favelas pro CRS do raster (pra calcular média sem distorção)\n",
    "if gdf_favelas.crs != raster_crs:\n",
    "    gdf_favelas = gdf_favelas.to_crs(raster_crs)\n",
    "\n",
    "# ---------- média por polígono ----------\n",
    "stats = zonal_stats(\n",
    "    vectors=gdf_favelas.geometry,\n",
    "    raster=str(caminho_geotiff),\n",
    "    stats=[\"mean\"],\n",
    "    nodata=raster_nodata,\n",
    "    all_touched=False\n",
    ")\n",
    "gdf_favelas[\"temp_media\"] = [s[\"mean\"] if s[\"mean\"] is not None else float('nan') for s in stats]"
   ]
  },
  {
   "cell_type": "code",
   "execution_count": 4,
   "id": "65be576d",
   "metadata": {},
   "outputs": [
    {
     "name": "stdout",
     "output_type": "stream",
     "text": [
      "<class 'geopandas.geodataframe.GeoDataFrame'>\n",
      "RangeIndex: 1359 entries, 0 to 1358\n",
      "Data columns (total 12 columns):\n",
      " #   Column      Non-Null Count  Dtype   \n",
      "---  ------      --------------  -----   \n",
      " 0   cd_fcu      1359 non-null   object  \n",
      " 1   nm_fcu      1359 non-null   object  \n",
      " 2   cd_uf       1359 non-null   object  \n",
      " 3   nm_uf       1359 non-null   object  \n",
      " 4   sigla_uf    1359 non-null   object  \n",
      " 5   cd_mun      1359 non-null   object  \n",
      " 6   Pop_2022    1359 non-null   int64   \n",
      " 7   Area        1359 non-null   int64   \n",
      " 8   Density     1359 non-null   int64   \n",
      " 9   LST         1359 non-null   float64 \n",
      " 10  geometry    1359 non-null   geometry\n",
      " 11  temp_media  1358 non-null   float64 \n",
      "dtypes: float64(2), geometry(1), int64(3), object(6)\n",
      "memory usage: 127.5+ KB\n"
     ]
    }
   ],
   "source": [
    "gdf_favelas.info()"
   ]
  },
  {
   "cell_type": "code",
   "execution_count": 5,
   "id": "e1e1cb13",
   "metadata": {},
   "outputs": [
    {
     "data": {
      "text/html": [
       "<div>\n",
       "<style scoped>\n",
       "    .dataframe tbody tr th:only-of-type {\n",
       "        vertical-align: middle;\n",
       "    }\n",
       "\n",
       "    .dataframe tbody tr th {\n",
       "        vertical-align: top;\n",
       "    }\n",
       "\n",
       "    .dataframe thead th {\n",
       "        text-align: right;\n",
       "    }\n",
       "</style>\n",
       "<table border=\"1\" class=\"dataframe\">\n",
       "  <thead>\n",
       "    <tr style=\"text-align: right;\">\n",
       "      <th></th>\n",
       "      <th>cd_fcu</th>\n",
       "      <th>nm_fcu</th>\n",
       "      <th>cd_uf</th>\n",
       "      <th>nm_uf</th>\n",
       "      <th>sigla_uf</th>\n",
       "      <th>cd_mun</th>\n",
       "      <th>Pop_2022</th>\n",
       "      <th>Area</th>\n",
       "      <th>Density</th>\n",
       "      <th>LST</th>\n",
       "      <th>geometry</th>\n",
       "      <th>temp_media</th>\n",
       "    </tr>\n",
       "  </thead>\n",
       "  <tbody>\n",
       "    <tr>\n",
       "      <th>0</th>\n",
       "      <td>35503080069</td>\n",
       "      <td>Jardim Miliunas</td>\n",
       "      <td>35</td>\n",
       "      <td>São Paulo</td>\n",
       "      <td>SP</td>\n",
       "      <td>3550308</td>\n",
       "      <td>1159</td>\n",
       "      <td>25712</td>\n",
       "      <td>0</td>\n",
       "      <td>0.0</td>\n",
       "      <td>MULTIPOLYGON (((-46.37165 -23.50024, -46.3717 ...</td>\n",
       "      <td>43.443211</td>\n",
       "    </tr>\n",
       "    <tr>\n",
       "      <th>1</th>\n",
       "      <td>35503082222</td>\n",
       "      <td>Avenida Arraias do Araguaia</td>\n",
       "      <td>35</td>\n",
       "      <td>São Paulo</td>\n",
       "      <td>SP</td>\n",
       "      <td>3550308</td>\n",
       "      <td>333</td>\n",
       "      <td>10204</td>\n",
       "      <td>0</td>\n",
       "      <td>0.0</td>\n",
       "      <td>MULTIPOLYGON (((-46.50249 -23.5805, -46.50288 ...</td>\n",
       "      <td>37.426762</td>\n",
       "    </tr>\n",
       "    <tr>\n",
       "      <th>2</th>\n",
       "      <td>35503081646</td>\n",
       "      <td>Pavanas</td>\n",
       "      <td>35</td>\n",
       "      <td>São Paulo</td>\n",
       "      <td>SP</td>\n",
       "      <td>3550308</td>\n",
       "      <td>161</td>\n",
       "      <td>2968</td>\n",
       "      <td>0</td>\n",
       "      <td>0.0</td>\n",
       "      <td>MULTIPOLYGON (((-46.64777 -23.66911, -46.6481 ...</td>\n",
       "      <td>39.712868</td>\n",
       "    </tr>\n",
       "  </tbody>\n",
       "</table>\n",
       "</div>"
      ],
      "text/plain": [
       "        cd_fcu                       nm_fcu cd_uf      nm_uf sigla_uf  \\\n",
       "0  35503080069              Jardim Miliunas    35  São Paulo       SP   \n",
       "1  35503082222  Avenida Arraias do Araguaia    35  São Paulo       SP   \n",
       "2  35503081646                      Pavanas    35  São Paulo       SP   \n",
       "\n",
       "    cd_mun  Pop_2022   Area  Density  LST  \\\n",
       "0  3550308      1159  25712        0  0.0   \n",
       "1  3550308       333  10204        0  0.0   \n",
       "2  3550308       161   2968        0  0.0   \n",
       "\n",
       "                                            geometry  temp_media  \n",
       "0  MULTIPOLYGON (((-46.37165 -23.50024, -46.3717 ...   43.443211  \n",
       "1  MULTIPOLYGON (((-46.50249 -23.5805, -46.50288 ...   37.426762  \n",
       "2  MULTIPOLYGON (((-46.64777 -23.66911, -46.6481 ...   39.712868  "
      ]
     },
     "execution_count": 5,
     "metadata": {},
     "output_type": "execute_result"
    }
   ],
   "source": [
    "gdf_favelas.head(3)"
   ]
  },
  {
   "cell_type": "code",
   "execution_count": 11,
   "id": "078002ab",
   "metadata": {},
   "outputs": [
    {
     "data": {
      "application/vnd.plotly.v1+json": {
       "config": {
        "plotlyServerURL": "https://plot.ly"
       },
       "data": [
        {
         "customdata": {
          "bdata": "KNP4g3tcREAQ7NjwUm5DQEXQcFL3X0NAIND+pOmLQ0Cjs4nEdpBCQG9cf924cENAmjUuFkjjQUAzh4NKaMtDQGpNomDqpEJAGWdCpDQ/Q0A=",
          "dtype": "f8"
         },
         "hovertemplate": "<b>%{y}</b><br>População: %{x:,}<br>Temp. média: %{customdata:.2f} °C<extra></extra>",
         "marker": {
          "cmax": 52.6043587,
          "cmin": 13.1911707,
          "color": {
           "bdata": "KNP4g3tcREAQ7NjwUm5DQEXQcFL3X0NAIND+pOmLQ0Cjs4nEdpBCQG9cf924cENAmjUuFkjjQUAzh4NKaMtDQGpNomDqpEJAGWdCpDQ/Q0A=",
           "dtype": "f8"
          },
          "colorbar": {
           "thickness": 14,
           "title": {
            "text": "Temperatura média (°C)"
           }
          },
          "colorscale": [
           [
            0,
            "rgb(43,131,186)"
           ],
           [
            0.4999999999999999,
            "rgb(255,255,191)"
           ],
           [
            1,
            "rgb(215,25,28)"
           ]
          ]
         },
         "orientation": "h",
         "type": "bar",
         "x": {
          "bdata": "n+QAAB/ZAAAhUAAAKUcAACBGAABjQQAAqUAAAH08AAAVMAAAwC8AAA==",
          "dtype": "i4"
         },
         "y": [
          "Paraisópolis",
          "Heliópolis",
          "Jardim Nova Harmonia",
          "Vila Jacuí AB",
          "Cantinho do Céu / Parque Eucalipto",
          "Jardim Felicidade / Jova Rura",
          "Recanto do Paraiso / Recanto Dos Humildes I / Cptm Recanto",
          "Safira",
          "Parque das Flores / Jardim Continental / COHAB",
          "Santa Terezinha"
         ]
        }
       ],
       "layout": {
        "annotations": [
         {
          "font": {
           "color": "black",
           "size": 12
          },
          "showarrow": false,
          "text": "58.527",
          "x": 58527,
          "xanchor": "left",
          "xshift": 6,
          "y": "Paraisópolis",
          "yanchor": "middle"
         },
         {
          "font": {
           "color": "black",
           "size": 12
          },
          "showarrow": false,
          "text": "55.583",
          "x": 55583,
          "xanchor": "left",
          "xshift": 6,
          "y": "Heliópolis",
          "yanchor": "middle"
         },
         {
          "font": {
           "color": "black",
           "size": 12
          },
          "showarrow": false,
          "text": "20.513",
          "x": 20513,
          "xanchor": "left",
          "xshift": 6,
          "y": "Jardim Nova Harmonia",
          "yanchor": "middle"
         },
         {
          "font": {
           "color": "black",
           "size": 12
          },
          "showarrow": false,
          "text": "18.217",
          "x": 18217,
          "xanchor": "left",
          "xshift": 6,
          "y": "Vila Jacuí AB",
          "yanchor": "middle"
         },
         {
          "font": {
           "color": "black",
           "size": 12
          },
          "showarrow": false,
          "text": "17.952",
          "x": 17952,
          "xanchor": "left",
          "xshift": 6,
          "y": "Cantinho do Céu / Parque Eucalipto",
          "yanchor": "middle"
         },
         {
          "font": {
           "color": "black",
           "size": 12
          },
          "showarrow": false,
          "text": "16.739",
          "x": 16739,
          "xanchor": "left",
          "xshift": 6,
          "y": "Jardim Felicidade / Jova Rura",
          "yanchor": "middle"
         },
         {
          "font": {
           "color": "black",
           "size": 12
          },
          "showarrow": false,
          "text": "16.553",
          "x": 16553,
          "xanchor": "left",
          "xshift": 6,
          "y": "Recanto do Paraiso / Recanto Dos Humildes I / Cptm Recanto",
          "yanchor": "middle"
         },
         {
          "font": {
           "color": "black",
           "size": 12
          },
          "showarrow": false,
          "text": "15.485",
          "x": 15485,
          "xanchor": "left",
          "xshift": 6,
          "y": "Safira",
          "yanchor": "middle"
         },
         {
          "font": {
           "color": "black",
           "size": 12
          },
          "showarrow": false,
          "text": "12.309",
          "x": 12309,
          "xanchor": "left",
          "xshift": 6,
          "y": "Parque das Flores / Jardim Continental / COHAB",
          "yanchor": "middle"
         },
         {
          "font": {
           "color": "black",
           "size": 12
          },
          "showarrow": false,
          "text": "12.224",
          "x": 12224,
          "xanchor": "left",
          "xshift": 6,
          "y": "Santa Terezinha",
          "yanchor": "middle"
         }
        ],
        "bargap": 0.25,
        "hovermode": "y",
        "margin": {
         "b": 40,
         "l": 40,
         "r": 20,
         "t": 60
        },
        "template": {
         "data": {
          "bar": [
           {
            "error_x": {
             "color": "#2a3f5f"
            },
            "error_y": {
             "color": "#2a3f5f"
            },
            "marker": {
             "line": {
              "color": "white",
              "width": 0.5
             },
             "pattern": {
              "fillmode": "overlay",
              "size": 10,
              "solidity": 0.2
             }
            },
            "type": "bar"
           }
          ],
          "barpolar": [
           {
            "marker": {
             "line": {
              "color": "white",
              "width": 0.5
             },
             "pattern": {
              "fillmode": "overlay",
              "size": 10,
              "solidity": 0.2
             }
            },
            "type": "barpolar"
           }
          ],
          "carpet": [
           {
            "aaxis": {
             "endlinecolor": "#2a3f5f",
             "gridcolor": "#C8D4E3",
             "linecolor": "#C8D4E3",
             "minorgridcolor": "#C8D4E3",
             "startlinecolor": "#2a3f5f"
            },
            "baxis": {
             "endlinecolor": "#2a3f5f",
             "gridcolor": "#C8D4E3",
             "linecolor": "#C8D4E3",
             "minorgridcolor": "#C8D4E3",
             "startlinecolor": "#2a3f5f"
            },
            "type": "carpet"
           }
          ],
          "choropleth": [
           {
            "colorbar": {
             "outlinewidth": 0,
             "ticks": ""
            },
            "type": "choropleth"
           }
          ],
          "contour": [
           {
            "colorbar": {
             "outlinewidth": 0,
             "ticks": ""
            },
            "colorscale": [
             [
              0,
              "#0d0887"
             ],
             [
              0.1111111111111111,
              "#46039f"
             ],
             [
              0.2222222222222222,
              "#7201a8"
             ],
             [
              0.3333333333333333,
              "#9c179e"
             ],
             [
              0.4444444444444444,
              "#bd3786"
             ],
             [
              0.5555555555555556,
              "#d8576b"
             ],
             [
              0.6666666666666666,
              "#ed7953"
             ],
             [
              0.7777777777777778,
              "#fb9f3a"
             ],
             [
              0.8888888888888888,
              "#fdca26"
             ],
             [
              1,
              "#f0f921"
             ]
            ],
            "type": "contour"
           }
          ],
          "contourcarpet": [
           {
            "colorbar": {
             "outlinewidth": 0,
             "ticks": ""
            },
            "type": "contourcarpet"
           }
          ],
          "heatmap": [
           {
            "colorbar": {
             "outlinewidth": 0,
             "ticks": ""
            },
            "colorscale": [
             [
              0,
              "#0d0887"
             ],
             [
              0.1111111111111111,
              "#46039f"
             ],
             [
              0.2222222222222222,
              "#7201a8"
             ],
             [
              0.3333333333333333,
              "#9c179e"
             ],
             [
              0.4444444444444444,
              "#bd3786"
             ],
             [
              0.5555555555555556,
              "#d8576b"
             ],
             [
              0.6666666666666666,
              "#ed7953"
             ],
             [
              0.7777777777777778,
              "#fb9f3a"
             ],
             [
              0.8888888888888888,
              "#fdca26"
             ],
             [
              1,
              "#f0f921"
             ]
            ],
            "type": "heatmap"
           }
          ],
          "histogram": [
           {
            "marker": {
             "pattern": {
              "fillmode": "overlay",
              "size": 10,
              "solidity": 0.2
             }
            },
            "type": "histogram"
           }
          ],
          "histogram2d": [
           {
            "colorbar": {
             "outlinewidth": 0,
             "ticks": ""
            },
            "colorscale": [
             [
              0,
              "#0d0887"
             ],
             [
              0.1111111111111111,
              "#46039f"
             ],
             [
              0.2222222222222222,
              "#7201a8"
             ],
             [
              0.3333333333333333,
              "#9c179e"
             ],
             [
              0.4444444444444444,
              "#bd3786"
             ],
             [
              0.5555555555555556,
              "#d8576b"
             ],
             [
              0.6666666666666666,
              "#ed7953"
             ],
             [
              0.7777777777777778,
              "#fb9f3a"
             ],
             [
              0.8888888888888888,
              "#fdca26"
             ],
             [
              1,
              "#f0f921"
             ]
            ],
            "type": "histogram2d"
           }
          ],
          "histogram2dcontour": [
           {
            "colorbar": {
             "outlinewidth": 0,
             "ticks": ""
            },
            "colorscale": [
             [
              0,
              "#0d0887"
             ],
             [
              0.1111111111111111,
              "#46039f"
             ],
             [
              0.2222222222222222,
              "#7201a8"
             ],
             [
              0.3333333333333333,
              "#9c179e"
             ],
             [
              0.4444444444444444,
              "#bd3786"
             ],
             [
              0.5555555555555556,
              "#d8576b"
             ],
             [
              0.6666666666666666,
              "#ed7953"
             ],
             [
              0.7777777777777778,
              "#fb9f3a"
             ],
             [
              0.8888888888888888,
              "#fdca26"
             ],
             [
              1,
              "#f0f921"
             ]
            ],
            "type": "histogram2dcontour"
           }
          ],
          "mesh3d": [
           {
            "colorbar": {
             "outlinewidth": 0,
             "ticks": ""
            },
            "type": "mesh3d"
           }
          ],
          "parcoords": [
           {
            "line": {
             "colorbar": {
              "outlinewidth": 0,
              "ticks": ""
             }
            },
            "type": "parcoords"
           }
          ],
          "pie": [
           {
            "automargin": true,
            "type": "pie"
           }
          ],
          "scatter": [
           {
            "fillpattern": {
             "fillmode": "overlay",
             "size": 10,
             "solidity": 0.2
            },
            "type": "scatter"
           }
          ],
          "scatter3d": [
           {
            "line": {
             "colorbar": {
              "outlinewidth": 0,
              "ticks": ""
             }
            },
            "marker": {
             "colorbar": {
              "outlinewidth": 0,
              "ticks": ""
             }
            },
            "type": "scatter3d"
           }
          ],
          "scattercarpet": [
           {
            "marker": {
             "colorbar": {
              "outlinewidth": 0,
              "ticks": ""
             }
            },
            "type": "scattercarpet"
           }
          ],
          "scattergeo": [
           {
            "marker": {
             "colorbar": {
              "outlinewidth": 0,
              "ticks": ""
             }
            },
            "type": "scattergeo"
           }
          ],
          "scattergl": [
           {
            "marker": {
             "colorbar": {
              "outlinewidth": 0,
              "ticks": ""
             }
            },
            "type": "scattergl"
           }
          ],
          "scattermap": [
           {
            "marker": {
             "colorbar": {
              "outlinewidth": 0,
              "ticks": ""
             }
            },
            "type": "scattermap"
           }
          ],
          "scattermapbox": [
           {
            "marker": {
             "colorbar": {
              "outlinewidth": 0,
              "ticks": ""
             }
            },
            "type": "scattermapbox"
           }
          ],
          "scatterpolar": [
           {
            "marker": {
             "colorbar": {
              "outlinewidth": 0,
              "ticks": ""
             }
            },
            "type": "scatterpolar"
           }
          ],
          "scatterpolargl": [
           {
            "marker": {
             "colorbar": {
              "outlinewidth": 0,
              "ticks": ""
             }
            },
            "type": "scatterpolargl"
           }
          ],
          "scatterternary": [
           {
            "marker": {
             "colorbar": {
              "outlinewidth": 0,
              "ticks": ""
             }
            },
            "type": "scatterternary"
           }
          ],
          "surface": [
           {
            "colorbar": {
             "outlinewidth": 0,
             "ticks": ""
            },
            "colorscale": [
             [
              0,
              "#0d0887"
             ],
             [
              0.1111111111111111,
              "#46039f"
             ],
             [
              0.2222222222222222,
              "#7201a8"
             ],
             [
              0.3333333333333333,
              "#9c179e"
             ],
             [
              0.4444444444444444,
              "#bd3786"
             ],
             [
              0.5555555555555556,
              "#d8576b"
             ],
             [
              0.6666666666666666,
              "#ed7953"
             ],
             [
              0.7777777777777778,
              "#fb9f3a"
             ],
             [
              0.8888888888888888,
              "#fdca26"
             ],
             [
              1,
              "#f0f921"
             ]
            ],
            "type": "surface"
           }
          ],
          "table": [
           {
            "cells": {
             "fill": {
              "color": "#EBF0F8"
             },
             "line": {
              "color": "white"
             }
            },
            "header": {
             "fill": {
              "color": "#C8D4E3"
             },
             "line": {
              "color": "white"
             }
            },
            "type": "table"
           }
          ]
         },
         "layout": {
          "annotationdefaults": {
           "arrowcolor": "#2a3f5f",
           "arrowhead": 0,
           "arrowwidth": 1
          },
          "autotypenumbers": "strict",
          "coloraxis": {
           "colorbar": {
            "outlinewidth": 0,
            "ticks": ""
           }
          },
          "colorscale": {
           "diverging": [
            [
             0,
             "#8e0152"
            ],
            [
             0.1,
             "#c51b7d"
            ],
            [
             0.2,
             "#de77ae"
            ],
            [
             0.3,
             "#f1b6da"
            ],
            [
             0.4,
             "#fde0ef"
            ],
            [
             0.5,
             "#f7f7f7"
            ],
            [
             0.6,
             "#e6f5d0"
            ],
            [
             0.7,
             "#b8e186"
            ],
            [
             0.8,
             "#7fbc41"
            ],
            [
             0.9,
             "#4d9221"
            ],
            [
             1,
             "#276419"
            ]
           ],
           "sequential": [
            [
             0,
             "#0d0887"
            ],
            [
             0.1111111111111111,
             "#46039f"
            ],
            [
             0.2222222222222222,
             "#7201a8"
            ],
            [
             0.3333333333333333,
             "#9c179e"
            ],
            [
             0.4444444444444444,
             "#bd3786"
            ],
            [
             0.5555555555555556,
             "#d8576b"
            ],
            [
             0.6666666666666666,
             "#ed7953"
            ],
            [
             0.7777777777777778,
             "#fb9f3a"
            ],
            [
             0.8888888888888888,
             "#fdca26"
            ],
            [
             1,
             "#f0f921"
            ]
           ],
           "sequentialminus": [
            [
             0,
             "#0d0887"
            ],
            [
             0.1111111111111111,
             "#46039f"
            ],
            [
             0.2222222222222222,
             "#7201a8"
            ],
            [
             0.3333333333333333,
             "#9c179e"
            ],
            [
             0.4444444444444444,
             "#bd3786"
            ],
            [
             0.5555555555555556,
             "#d8576b"
            ],
            [
             0.6666666666666666,
             "#ed7953"
            ],
            [
             0.7777777777777778,
             "#fb9f3a"
            ],
            [
             0.8888888888888888,
             "#fdca26"
            ],
            [
             1,
             "#f0f921"
            ]
           ]
          },
          "colorway": [
           "#636efa",
           "#EF553B",
           "#00cc96",
           "#ab63fa",
           "#FFA15A",
           "#19d3f3",
           "#FF6692",
           "#B6E880",
           "#FF97FF",
           "#FECB52"
          ],
          "font": {
           "color": "#2a3f5f"
          },
          "geo": {
           "bgcolor": "white",
           "lakecolor": "white",
           "landcolor": "white",
           "showlakes": true,
           "showland": true,
           "subunitcolor": "#C8D4E3"
          },
          "hoverlabel": {
           "align": "left"
          },
          "hovermode": "closest",
          "mapbox": {
           "style": "light"
          },
          "paper_bgcolor": "white",
          "plot_bgcolor": "white",
          "polar": {
           "angularaxis": {
            "gridcolor": "#EBF0F8",
            "linecolor": "#EBF0F8",
            "ticks": ""
           },
           "bgcolor": "white",
           "radialaxis": {
            "gridcolor": "#EBF0F8",
            "linecolor": "#EBF0F8",
            "ticks": ""
           }
          },
          "scene": {
           "xaxis": {
            "backgroundcolor": "white",
            "gridcolor": "#DFE8F3",
            "gridwidth": 2,
            "linecolor": "#EBF0F8",
            "showbackground": true,
            "ticks": "",
            "zerolinecolor": "#EBF0F8"
           },
           "yaxis": {
            "backgroundcolor": "white",
            "gridcolor": "#DFE8F3",
            "gridwidth": 2,
            "linecolor": "#EBF0F8",
            "showbackground": true,
            "ticks": "",
            "zerolinecolor": "#EBF0F8"
           },
           "zaxis": {
            "backgroundcolor": "white",
            "gridcolor": "#DFE8F3",
            "gridwidth": 2,
            "linecolor": "#EBF0F8",
            "showbackground": true,
            "ticks": "",
            "zerolinecolor": "#EBF0F8"
           }
          },
          "shapedefaults": {
           "line": {
            "color": "#2a3f5f"
           }
          },
          "ternary": {
           "aaxis": {
            "gridcolor": "#DFE8F3",
            "linecolor": "#A2B1C6",
            "ticks": ""
           },
           "baxis": {
            "gridcolor": "#DFE8F3",
            "linecolor": "#A2B1C6",
            "ticks": ""
           },
           "bgcolor": "white",
           "caxis": {
            "gridcolor": "#DFE8F3",
            "linecolor": "#A2B1C6",
            "ticks": ""
           }
          },
          "title": {
           "x": 0.05
          },
          "xaxis": {
           "automargin": true,
           "gridcolor": "#EBF0F8",
           "linecolor": "#EBF0F8",
           "ticks": "",
           "title": {
            "standoff": 15
           },
           "zerolinecolor": "#EBF0F8",
           "zerolinewidth": 2
          },
          "yaxis": {
           "automargin": true,
           "gridcolor": "#EBF0F8",
           "linecolor": "#EBF0F8",
           "ticks": "",
           "title": {
            "standoff": 15
           },
           "zerolinecolor": "#EBF0F8",
           "zerolinewidth": 2
          }
         }
        },
        "title": {
         "text": "Top 10 favelas por população"
        },
        "xaxis": {
         "tickformat": ",d",
         "title": {
          "text": "População"
         }
        },
        "yaxis": {
         "categoryarray": [
          "Santa Terezinha",
          "Parque das Flores / Jardim Continental / COHAB",
          "Safira",
          "Recanto do Paraiso / Recanto Dos Humildes I / Cptm Recanto",
          "Jardim Felicidade / Jova Rura",
          "Cantinho do Céu / Parque Eucalipto",
          "Vila Jacuí AB",
          "Jardim Nova Harmonia",
          "Heliópolis",
          "Paraisópolis"
         ],
         "categoryorder": "array",
         "title": {
          "text": "Favela"
         }
        }
       }
      }
     },
     "metadata": {},
     "output_type": "display_data"
    }
   ],
   "source": [
    "# %% [markdown]\n",
    "# Top 10 favelas por população + temperatura média (cores do QML)\n",
    "# - Usa gdf_favelas já carregado (colunas: nm_fcu, Pop_2022, temp_media)\n",
    "# - Lê a rampa de cores do QML em data/mapa_base.qml\n",
    "# - Gera figura Plotly (retorna em `fig`); opcional: write_html\n",
    "\n",
    "from __future__ import annotations\n",
    "import re\n",
    "import xml.etree.ElementTree as ET\n",
    "from pathlib import Path\n",
    "import pandas as pd\n",
    "import plotly.graph_objects as go\n",
    "\n",
    "# =========================\n",
    "# caminho do QML\n",
    "# =========================\n",
    "qml_path = data_dir / \"mapa_base.qml\"  # ajuste se necessário\n",
    "\n",
    "# =========================\n",
    "# helpers de cor / QML\n",
    "# =========================\n",
    "def parse_qml_colorramp(qml_file: Path):\n",
    "    \"\"\"\n",
    "    Lê QML (QGIS Raster Color Ramp Shader) e retorna lista de (valor_float, '#RRGGBB').\n",
    "    Suporta <item value=\"...\" color=\"r,g,b,a\" .../> ou hex.\n",
    "    \"\"\"\n",
    "    tree = ET.parse(qml_file)\n",
    "    root = tree.getroot()\n",
    "    items = root.findall(\".//item\")\n",
    "    if not items:\n",
    "        items = root.findall(\".//colorramp//item\")\n",
    "\n",
    "    stops: list[tuple[float, str]] = []\n",
    "    for it in items:\n",
    "        val = float(it.attrib.get(\"value\"))\n",
    "        color_attr = it.attrib.get(\"color\") or it.attrib.get(\"label\", \"\")\n",
    "        if \",\" in color_attr:\n",
    "            parts = [int(x) for x in color_attr.split(\",\")]\n",
    "            r, g, b = parts[:3]\n",
    "            hex_color = f\"#{r:02X}{g:02X}{b:02X}\"\n",
    "        else:\n",
    "            hex_color = color_attr.strip()\n",
    "            if not hex_color.startswith(\"#\"):\n",
    "                hex_color = \"#\" + hex_color\n",
    "            if not re.fullmatch(r\"#?[0-9A-Fa-f]{6}\", hex_color):\n",
    "                hex_color = \"#000000\"\n",
    "        stops.append((val, hex_color))\n",
    "\n",
    "    stops.sort(key=lambda x: x[0])\n",
    "    return stops\n",
    "\n",
    "def hex_to_rgb_tuple(hex_color: str) -> tuple[int, int, int]:\n",
    "    hex_color = hex_color.lstrip(\"#\")\n",
    "    return tuple(int(hex_color[i:i+2], 16) for i in (0, 2, 4))\n",
    "\n",
    "def rgb_to_plotly_str(rgb_tuple: tuple[int, int, int]) -> str:\n",
    "    r, g, b = rgb_tuple\n",
    "    return f\"rgb({r},{g},{b})\"\n",
    "\n",
    "def build_plotly_colorscale_from_qml(stops: list[tuple[float, str]]):\n",
    "    vals = [v for v, _ in stops]\n",
    "    vmin, vmax = min(vals), max(vals)\n",
    "    span = vmax - vmin if vmax > vmin else 1.0\n",
    "    colorscale = []\n",
    "    for v, hex_color in stops:\n",
    "        t = (v - vmin) / span\n",
    "        colorscale.append([t, rgb_to_plotly_str(hex_to_rgb_tuple(hex_color))])\n",
    "    return colorscale, vmin, vmax\n",
    "\n",
    "def interpolate_hex_color(stops: list[tuple[float, str]], value: float) -> str:\n",
    "    \"\"\"Interpola a cor hex para `value` com base nos stops do QML (linear em RGB).\"\"\"\n",
    "    stops = sorted(stops, key=lambda x: x[0])\n",
    "    vmin, vmax = stops[0][0], stops[-1][0]\n",
    "    if value <= vmin:\n",
    "        return stops[0][1]\n",
    "    if value >= vmax:\n",
    "        return stops[-1][1]\n",
    "    for i in range(len(stops) - 1):\n",
    "        v0, c0 = stops[i]\n",
    "        v1, c1 = stops[i+1]\n",
    "        if v0 <= value <= v1:\n",
    "            t = (value - v0) / (v1 - v0) if v1 > v0 else 0.0\n",
    "            r0, g0, b0 = hex_to_rgb_tuple(c0)\n",
    "            r1, g1, b1 = hex_to_rgb_tuple(c1)\n",
    "            r = int(round(r0 + t*(r1 - r0)))\n",
    "            g = int(round(g0 + t*(g1 - g0)))\n",
    "            b = int(round(b0 + t*(b1 - b0)))\n",
    "            return f\"#{r:02X}{g:02X}{b:02X}\"\n",
    "    return stops[-1][1]\n",
    "\n",
    "def ideal_text_color_for_bg(hex_color: str) -> str:\n",
    "    \"\"\"Retorna 'white' ou 'black' por luminância (WCAG) para garantir contraste.\"\"\"\n",
    "    r, g, b = [x/255.0 for x in hex_to_rgb_tuple(hex_color)]\n",
    "    def f(c): \n",
    "        return c/12.92 if c <= 0.03928 else ((c+0.055)/1.055) ** 2.4\n",
    "    L = 0.2126*f(r) + 0.7152*f(g) + 0.0722*f(b)\n",
    "    return \"black\" if L > 0.6 else \"white\"\n",
    "\n",
    "# =========================\n",
    "# preparação dos dados\n",
    "# (usa gdf_favelas já no ambiente)\n",
    "# =========================\n",
    "def preparar_top10(gdf_favelas) -> pd.DataFrame:\n",
    "    df = gdf_favelas[[ \"nm_fcu\", \"Pop_2022\", \"temp_media\" ]].copy()\n",
    "    df[\"Pop_2022\"]  = pd.to_numeric(df[\"Pop_2022\"], errors=\"coerce\")\n",
    "    df[\"temp_media\"] = pd.to_numeric(df[\"temp_media\"], errors=\"coerce\")\n",
    "    df = df.dropna(subset=[\"nm_fcu\", \"Pop_2022\", \"temp_media\"])\n",
    "    dfx = df.sort_values(\"Pop_2022\", ascending=False).head(10).copy()\n",
    "    # fixa a ordem visual no eixo x pela ordem do top10\n",
    "    dfx[\"nm_fcu\"] = pd.Categorical(dfx[\"nm_fcu\"], categories=dfx[\"nm_fcu\"].tolist(), ordered=True)\n",
    "    return dfx\n",
    "\n",
    "# =========================\n",
    "# figura plotly\n",
    "# =========================\n",
    "def grafico_barras_pop_temp_horizontal(gdf_favelas, qml_path: Path,\n",
    "                                       titulo: str = \"Top 10 favelas por população\"):\n",
    "    # rampa do QML -> colorscale\n",
    "    stops = parse_qml_colorramp(qml_path)\n",
    "    colorscale, cmin, cmax = build_plotly_colorscale_from_qml(stops)\n",
    "\n",
    "    dfx = preparar_top10(gdf_favelas)\n",
    "\n",
    "    fig = go.Figure()\n",
    "    fig.add_bar(\n",
    "        x=dfx[\"Pop_2022\"],\n",
    "        y=dfx[\"nm_fcu\"],\n",
    "        orientation=\"h\",\n",
    "        marker=dict(\n",
    "            color=dfx[\"temp_media\"],\n",
    "            colorscale=colorscale,\n",
    "            cmin=cmin,\n",
    "            cmax=cmax,\n",
    "            colorbar=dict(title=\"Temperatura média (°C)\", thickness=14)\n",
    "        ),\n",
    "        hovertemplate=\"<b>%{y}</b><br>População: %{x:,}<br>Temp. média: %{customdata:.2f} °C<extra></extra>\",\n",
    "        customdata=dfx[\"temp_media\"].values,\n",
    "    )\n",
    "\n",
    "    # rótulos\n",
    "    for y, pop, t in zip(dfx[\"nm_fcu\"], dfx[\"Pop_2022\"], dfx[\"temp_media\"]):\n",
    "        pop_str = f\"{int(round(pop)):,}\".replace(\",\", \".\")\n",
    "        # população no fim da barra\n",
    "        fig.add_annotation(\n",
    "            x=float(pop),\n",
    "            y=y,\n",
    "            text=pop_str,\n",
    "            showarrow=False,\n",
    "            xshift=6,\n",
    "            font=dict(size=12, color=\"black\"),\n",
    "            xanchor=\"left\",\n",
    "            yanchor=\"middle\"\n",
    "        )\n",
    "        # # temperatura no meio da barra\n",
    "        # bar_hex = interpolate_hex_color(stops, float(t))\n",
    "        # text_color = ideal_text_color_for_bg(bar_hex)\n",
    "        # fig.add_annotation(\n",
    "        #     x=float(pop)/2.0,\n",
    "        #     y=y,\n",
    "        #     text=f\"{t:.1f}°C\",\n",
    "        #     showarrow=False,\n",
    "        #     font=dict(size=12, color=text_color),\n",
    "        #     xanchor=\"center\",\n",
    "        #     yanchor=\"middle\"\n",
    "        # )\n",
    "\n",
    "    fig.update_layout(\n",
    "        title=titulo,\n",
    "        xaxis_title=\"População\",\n",
    "        yaxis_title=\"Favela\",\n",
    "        bargap=0.25,\n",
    "        template=\"plotly_white\",\n",
    "        margin=dict(l=40, r=20, t=60, b=40),\n",
    "        hovermode=\"y\",\n",
    "        yaxis=dict(\n",
    "            categoryorder=\"array\",\n",
    "            categoryarray=dfx.sort_values(\"Pop_2022\", ascending=True)[\"nm_fcu\"].tolist()\n",
    "        )\n",
    "    )\n",
    "    fig.update_xaxes(tickformat=\",d\")\n",
    "    return fig\n",
    "\n",
    "# uso:\n",
    "fig = grafico_barras_pop_temp_horizontal(gdf_favelas, qml_path)\n",
    "fig.show()  # descomente para visualizar no notebook\n",
    "# fig.write_html(\"outputs/figures/top10_favelas_pop_temp.html\", include_plotlyjs=\"cdn\")  # opcional\n"
   ]
  },
  {
   "cell_type": "code",
   "execution_count": 15,
   "id": "ea38ecbd",
   "metadata": {},
   "outputs": [
    {
     "data": {
      "application/vnd.plotly.v1+json": {
       "config": {
        "plotlyServerURL": "https://plot.ly"
       },
       "data": [
        {
         "customdata": {
          "bdata": "0QKFBiwBTQJ2BDMBFwHrAnEKmwE=",
          "dtype": "i2"
         },
         "hovertemplate": "<b>%{y}</b><br>Temp. média: %{x:.2f} °C<br>População: %{customdata:,}<extra></extra>",
         "marker": {
          "cmax": 52.6043587,
          "cmin": 13.1911707,
          "color": {
           "bdata": "UV5DeZmzR0C+9957F6VHQDMzMzPMmkdAntiJnYBPR0AAAAAAkxJHQFVVVVU+3kZAAAAAAOyTRkBmZmZmlpJGQIp81g0GckZAxU7sxDxuRkA=",
           "dtype": "f8"
          },
          "colorbar": {
           "thickness": 14,
           "title": {
            "text": "Temperatura média (°C)"
           }
          },
          "colorscale": [
           [
            0,
            "rgb(43,131,186)"
           ],
           [
            0.4999999999999999,
            "rgb(255,255,191)"
           ],
           [
            1,
            "rgb(215,25,28)"
           ]
          ]
         },
         "orientation": "h",
         "type": "bar",
         "x": {
          "bdata": "UV5DeZmzR0C+9957F6VHQDMzMzPMmkdAntiJnYBPR0AAAAAAkxJHQFVVVVU+3kZAAAAAAOyTRkBmZmZmlpJGQIp81g0GckZAxU7sxDxuRkA=",
          "dtype": "f8"
         },
         "y": [
          "Jardim Capelinha / Nuno Roland",
          "Jardim D´Abril II",
          "Basílio Teles",
          "Parque Santo Antônio II",
          "Parque Santo Antônio I",
          "Sebastião Advincola da Cunha",
          "Mikail",
          "Vanguarda",
          "Maria Luiza Americano",
          "Agreste de Itabaiana"
         ]
        }
       ],
       "layout": {
        "annotations": [
         {
          "font": {
           "color": "black",
           "size": 12
          },
          "showarrow": false,
          "text": "47.4°C",
          "x": 47.40312114514803,
          "xanchor": "left",
          "xshift": 6,
          "y": "Jardim Capelinha / Nuno Roland",
          "yanchor": "middle"
         },
         {
          "font": {
           "color": "black",
           "size": 12
          },
          "showarrow": false,
          "text": "47.3°C",
          "x": 47.289779170866936,
          "xanchor": "left",
          "xshift": 6,
          "y": "Jardim D´Abril II",
          "yanchor": "middle"
         },
         {
          "font": {
           "color": "black",
           "size": 12
          },
          "showarrow": false,
          "text": "47.2°C",
          "x": 47.209356689453124,
          "xanchor": "left",
          "xshift": 6,
          "y": "Basílio Teles",
          "yanchor": "middle"
         },
         {
          "font": {
           "color": "black",
           "size": 12
          },
          "showarrow": false,
          "text": "46.6°C",
          "x": 46.62111253004808,
          "xanchor": "left",
          "xshift": 6,
          "y": "Parque Santo Antônio II",
          "yanchor": "middle"
         },
         {
          "font": {
           "color": "black",
           "size": 12
          },
          "showarrow": false,
          "text": "46.1°C",
          "x": 46.145111083984375,
          "xanchor": "left",
          "xshift": 6,
          "y": "Parque Santo Antônio I",
          "yanchor": "middle"
         },
         {
          "font": {
           "color": "black",
           "size": 12
          },
          "showarrow": false,
          "text": "45.7°C",
          "x": 45.73627726236979,
          "xanchor": "left",
          "xshift": 6,
          "y": "Sebastião Advincola da Cunha",
          "yanchor": "middle"
         },
         {
          "font": {
           "color": "black",
           "size": 12
          },
          "showarrow": false,
          "text": "45.2°C",
          "x": 45.1556396484375,
          "xanchor": "left",
          "xshift": 6,
          "y": "Mikail",
          "yanchor": "middle"
         },
         {
          "font": {
           "color": "black",
           "size": 12
          },
          "showarrow": false,
          "text": "45.1°C",
          "x": 45.14521484375,
          "xanchor": "left",
          "xshift": 6,
          "y": "Vanguarda",
          "yanchor": "middle"
         },
         {
          "font": {
           "color": "black",
           "size": 12
          },
          "showarrow": false,
          "text": "44.9°C",
          "x": 44.890809755067565,
          "xanchor": "left",
          "xshift": 6,
          "y": "Maria Luiza Americano",
          "yanchor": "middle"
         },
         {
          "font": {
           "color": "black",
           "size": 12
          },
          "showarrow": false,
          "text": "44.9°C",
          "x": 44.8612295297476,
          "xanchor": "left",
          "xshift": 6,
          "y": "Agreste de Itabaiana",
          "yanchor": "middle"
         }
        ],
        "bargap": 0.25,
        "hovermode": "y",
        "margin": {
         "b": 40,
         "l": 40,
         "r": 20,
         "t": 60
        },
        "template": {
         "data": {
          "bar": [
           {
            "error_x": {
             "color": "#2a3f5f"
            },
            "error_y": {
             "color": "#2a3f5f"
            },
            "marker": {
             "line": {
              "color": "white",
              "width": 0.5
             },
             "pattern": {
              "fillmode": "overlay",
              "size": 10,
              "solidity": 0.2
             }
            },
            "type": "bar"
           }
          ],
          "barpolar": [
           {
            "marker": {
             "line": {
              "color": "white",
              "width": 0.5
             },
             "pattern": {
              "fillmode": "overlay",
              "size": 10,
              "solidity": 0.2
             }
            },
            "type": "barpolar"
           }
          ],
          "carpet": [
           {
            "aaxis": {
             "endlinecolor": "#2a3f5f",
             "gridcolor": "#C8D4E3",
             "linecolor": "#C8D4E3",
             "minorgridcolor": "#C8D4E3",
             "startlinecolor": "#2a3f5f"
            },
            "baxis": {
             "endlinecolor": "#2a3f5f",
             "gridcolor": "#C8D4E3",
             "linecolor": "#C8D4E3",
             "minorgridcolor": "#C8D4E3",
             "startlinecolor": "#2a3f5f"
            },
            "type": "carpet"
           }
          ],
          "choropleth": [
           {
            "colorbar": {
             "outlinewidth": 0,
             "ticks": ""
            },
            "type": "choropleth"
           }
          ],
          "contour": [
           {
            "colorbar": {
             "outlinewidth": 0,
             "ticks": ""
            },
            "colorscale": [
             [
              0,
              "#0d0887"
             ],
             [
              0.1111111111111111,
              "#46039f"
             ],
             [
              0.2222222222222222,
              "#7201a8"
             ],
             [
              0.3333333333333333,
              "#9c179e"
             ],
             [
              0.4444444444444444,
              "#bd3786"
             ],
             [
              0.5555555555555556,
              "#d8576b"
             ],
             [
              0.6666666666666666,
              "#ed7953"
             ],
             [
              0.7777777777777778,
              "#fb9f3a"
             ],
             [
              0.8888888888888888,
              "#fdca26"
             ],
             [
              1,
              "#f0f921"
             ]
            ],
            "type": "contour"
           }
          ],
          "contourcarpet": [
           {
            "colorbar": {
             "outlinewidth": 0,
             "ticks": ""
            },
            "type": "contourcarpet"
           }
          ],
          "heatmap": [
           {
            "colorbar": {
             "outlinewidth": 0,
             "ticks": ""
            },
            "colorscale": [
             [
              0,
              "#0d0887"
             ],
             [
              0.1111111111111111,
              "#46039f"
             ],
             [
              0.2222222222222222,
              "#7201a8"
             ],
             [
              0.3333333333333333,
              "#9c179e"
             ],
             [
              0.4444444444444444,
              "#bd3786"
             ],
             [
              0.5555555555555556,
              "#d8576b"
             ],
             [
              0.6666666666666666,
              "#ed7953"
             ],
             [
              0.7777777777777778,
              "#fb9f3a"
             ],
             [
              0.8888888888888888,
              "#fdca26"
             ],
             [
              1,
              "#f0f921"
             ]
            ],
            "type": "heatmap"
           }
          ],
          "histogram": [
           {
            "marker": {
             "pattern": {
              "fillmode": "overlay",
              "size": 10,
              "solidity": 0.2
             }
            },
            "type": "histogram"
           }
          ],
          "histogram2d": [
           {
            "colorbar": {
             "outlinewidth": 0,
             "ticks": ""
            },
            "colorscale": [
             [
              0,
              "#0d0887"
             ],
             [
              0.1111111111111111,
              "#46039f"
             ],
             [
              0.2222222222222222,
              "#7201a8"
             ],
             [
              0.3333333333333333,
              "#9c179e"
             ],
             [
              0.4444444444444444,
              "#bd3786"
             ],
             [
              0.5555555555555556,
              "#d8576b"
             ],
             [
              0.6666666666666666,
              "#ed7953"
             ],
             [
              0.7777777777777778,
              "#fb9f3a"
             ],
             [
              0.8888888888888888,
              "#fdca26"
             ],
             [
              1,
              "#f0f921"
             ]
            ],
            "type": "histogram2d"
           }
          ],
          "histogram2dcontour": [
           {
            "colorbar": {
             "outlinewidth": 0,
             "ticks": ""
            },
            "colorscale": [
             [
              0,
              "#0d0887"
             ],
             [
              0.1111111111111111,
              "#46039f"
             ],
             [
              0.2222222222222222,
              "#7201a8"
             ],
             [
              0.3333333333333333,
              "#9c179e"
             ],
             [
              0.4444444444444444,
              "#bd3786"
             ],
             [
              0.5555555555555556,
              "#d8576b"
             ],
             [
              0.6666666666666666,
              "#ed7953"
             ],
             [
              0.7777777777777778,
              "#fb9f3a"
             ],
             [
              0.8888888888888888,
              "#fdca26"
             ],
             [
              1,
              "#f0f921"
             ]
            ],
            "type": "histogram2dcontour"
           }
          ],
          "mesh3d": [
           {
            "colorbar": {
             "outlinewidth": 0,
             "ticks": ""
            },
            "type": "mesh3d"
           }
          ],
          "parcoords": [
           {
            "line": {
             "colorbar": {
              "outlinewidth": 0,
              "ticks": ""
             }
            },
            "type": "parcoords"
           }
          ],
          "pie": [
           {
            "automargin": true,
            "type": "pie"
           }
          ],
          "scatter": [
           {
            "fillpattern": {
             "fillmode": "overlay",
             "size": 10,
             "solidity": 0.2
            },
            "type": "scatter"
           }
          ],
          "scatter3d": [
           {
            "line": {
             "colorbar": {
              "outlinewidth": 0,
              "ticks": ""
             }
            },
            "marker": {
             "colorbar": {
              "outlinewidth": 0,
              "ticks": ""
             }
            },
            "type": "scatter3d"
           }
          ],
          "scattercarpet": [
           {
            "marker": {
             "colorbar": {
              "outlinewidth": 0,
              "ticks": ""
             }
            },
            "type": "scattercarpet"
           }
          ],
          "scattergeo": [
           {
            "marker": {
             "colorbar": {
              "outlinewidth": 0,
              "ticks": ""
             }
            },
            "type": "scattergeo"
           }
          ],
          "scattergl": [
           {
            "marker": {
             "colorbar": {
              "outlinewidth": 0,
              "ticks": ""
             }
            },
            "type": "scattergl"
           }
          ],
          "scattermap": [
           {
            "marker": {
             "colorbar": {
              "outlinewidth": 0,
              "ticks": ""
             }
            },
            "type": "scattermap"
           }
          ],
          "scattermapbox": [
           {
            "marker": {
             "colorbar": {
              "outlinewidth": 0,
              "ticks": ""
             }
            },
            "type": "scattermapbox"
           }
          ],
          "scatterpolar": [
           {
            "marker": {
             "colorbar": {
              "outlinewidth": 0,
              "ticks": ""
             }
            },
            "type": "scatterpolar"
           }
          ],
          "scatterpolargl": [
           {
            "marker": {
             "colorbar": {
              "outlinewidth": 0,
              "ticks": ""
             }
            },
            "type": "scatterpolargl"
           }
          ],
          "scatterternary": [
           {
            "marker": {
             "colorbar": {
              "outlinewidth": 0,
              "ticks": ""
             }
            },
            "type": "scatterternary"
           }
          ],
          "surface": [
           {
            "colorbar": {
             "outlinewidth": 0,
             "ticks": ""
            },
            "colorscale": [
             [
              0,
              "#0d0887"
             ],
             [
              0.1111111111111111,
              "#46039f"
             ],
             [
              0.2222222222222222,
              "#7201a8"
             ],
             [
              0.3333333333333333,
              "#9c179e"
             ],
             [
              0.4444444444444444,
              "#bd3786"
             ],
             [
              0.5555555555555556,
              "#d8576b"
             ],
             [
              0.6666666666666666,
              "#ed7953"
             ],
             [
              0.7777777777777778,
              "#fb9f3a"
             ],
             [
              0.8888888888888888,
              "#fdca26"
             ],
             [
              1,
              "#f0f921"
             ]
            ],
            "type": "surface"
           }
          ],
          "table": [
           {
            "cells": {
             "fill": {
              "color": "#EBF0F8"
             },
             "line": {
              "color": "white"
             }
            },
            "header": {
             "fill": {
              "color": "#C8D4E3"
             },
             "line": {
              "color": "white"
             }
            },
            "type": "table"
           }
          ]
         },
         "layout": {
          "annotationdefaults": {
           "arrowcolor": "#2a3f5f",
           "arrowhead": 0,
           "arrowwidth": 1
          },
          "autotypenumbers": "strict",
          "coloraxis": {
           "colorbar": {
            "outlinewidth": 0,
            "ticks": ""
           }
          },
          "colorscale": {
           "diverging": [
            [
             0,
             "#8e0152"
            ],
            [
             0.1,
             "#c51b7d"
            ],
            [
             0.2,
             "#de77ae"
            ],
            [
             0.3,
             "#f1b6da"
            ],
            [
             0.4,
             "#fde0ef"
            ],
            [
             0.5,
             "#f7f7f7"
            ],
            [
             0.6,
             "#e6f5d0"
            ],
            [
             0.7,
             "#b8e186"
            ],
            [
             0.8,
             "#7fbc41"
            ],
            [
             0.9,
             "#4d9221"
            ],
            [
             1,
             "#276419"
            ]
           ],
           "sequential": [
            [
             0,
             "#0d0887"
            ],
            [
             0.1111111111111111,
             "#46039f"
            ],
            [
             0.2222222222222222,
             "#7201a8"
            ],
            [
             0.3333333333333333,
             "#9c179e"
            ],
            [
             0.4444444444444444,
             "#bd3786"
            ],
            [
             0.5555555555555556,
             "#d8576b"
            ],
            [
             0.6666666666666666,
             "#ed7953"
            ],
            [
             0.7777777777777778,
             "#fb9f3a"
            ],
            [
             0.8888888888888888,
             "#fdca26"
            ],
            [
             1,
             "#f0f921"
            ]
           ],
           "sequentialminus": [
            [
             0,
             "#0d0887"
            ],
            [
             0.1111111111111111,
             "#46039f"
            ],
            [
             0.2222222222222222,
             "#7201a8"
            ],
            [
             0.3333333333333333,
             "#9c179e"
            ],
            [
             0.4444444444444444,
             "#bd3786"
            ],
            [
             0.5555555555555556,
             "#d8576b"
            ],
            [
             0.6666666666666666,
             "#ed7953"
            ],
            [
             0.7777777777777778,
             "#fb9f3a"
            ],
            [
             0.8888888888888888,
             "#fdca26"
            ],
            [
             1,
             "#f0f921"
            ]
           ]
          },
          "colorway": [
           "#636efa",
           "#EF553B",
           "#00cc96",
           "#ab63fa",
           "#FFA15A",
           "#19d3f3",
           "#FF6692",
           "#B6E880",
           "#FF97FF",
           "#FECB52"
          ],
          "font": {
           "color": "#2a3f5f"
          },
          "geo": {
           "bgcolor": "white",
           "lakecolor": "white",
           "landcolor": "white",
           "showlakes": true,
           "showland": true,
           "subunitcolor": "#C8D4E3"
          },
          "hoverlabel": {
           "align": "left"
          },
          "hovermode": "closest",
          "mapbox": {
           "style": "light"
          },
          "paper_bgcolor": "white",
          "plot_bgcolor": "white",
          "polar": {
           "angularaxis": {
            "gridcolor": "#EBF0F8",
            "linecolor": "#EBF0F8",
            "ticks": ""
           },
           "bgcolor": "white",
           "radialaxis": {
            "gridcolor": "#EBF0F8",
            "linecolor": "#EBF0F8",
            "ticks": ""
           }
          },
          "scene": {
           "xaxis": {
            "backgroundcolor": "white",
            "gridcolor": "#DFE8F3",
            "gridwidth": 2,
            "linecolor": "#EBF0F8",
            "showbackground": true,
            "ticks": "",
            "zerolinecolor": "#EBF0F8"
           },
           "yaxis": {
            "backgroundcolor": "white",
            "gridcolor": "#DFE8F3",
            "gridwidth": 2,
            "linecolor": "#EBF0F8",
            "showbackground": true,
            "ticks": "",
            "zerolinecolor": "#EBF0F8"
           },
           "zaxis": {
            "backgroundcolor": "white",
            "gridcolor": "#DFE8F3",
            "gridwidth": 2,
            "linecolor": "#EBF0F8",
            "showbackground": true,
            "ticks": "",
            "zerolinecolor": "#EBF0F8"
           }
          },
          "shapedefaults": {
           "line": {
            "color": "#2a3f5f"
           }
          },
          "ternary": {
           "aaxis": {
            "gridcolor": "#DFE8F3",
            "linecolor": "#A2B1C6",
            "ticks": ""
           },
           "baxis": {
            "gridcolor": "#DFE8F3",
            "linecolor": "#A2B1C6",
            "ticks": ""
           },
           "bgcolor": "white",
           "caxis": {
            "gridcolor": "#DFE8F3",
            "linecolor": "#A2B1C6",
            "ticks": ""
           }
          },
          "title": {
           "x": 0.05
          },
          "xaxis": {
           "automargin": true,
           "gridcolor": "#EBF0F8",
           "linecolor": "#EBF0F8",
           "ticks": "",
           "title": {
            "standoff": 15
           },
           "zerolinecolor": "#EBF0F8",
           "zerolinewidth": 2
          },
          "yaxis": {
           "automargin": true,
           "gridcolor": "#EBF0F8",
           "linecolor": "#EBF0F8",
           "ticks": "",
           "title": {
            "standoff": 15
           },
           "zerolinecolor": "#EBF0F8",
           "zerolinewidth": 2
          }
         }
        },
        "title": {
         "text": "Top 10 favelas mais quentes"
        },
        "xaxis": {
         "dtick": 5,
         "range": [
          0,
          50
         ],
         "tick0": 0,
         "title": {
          "text": "Temperatura média (°C)"
         }
        },
        "yaxis": {
         "categoryarray": [
          "Agreste de Itabaiana",
          "Maria Luiza Americano",
          "Vanguarda",
          "Mikail",
          "Sebastião Advincola da Cunha",
          "Parque Santo Antônio I",
          "Parque Santo Antônio II",
          "Basílio Teles",
          "Jardim D´Abril II",
          "Jardim Capelinha / Nuno Roland"
         ],
         "categoryorder": "array",
         "title": {
          "text": "Favela"
         }
        }
       }
      }
     },
     "metadata": {},
     "output_type": "display_data"
    },
    {
     "data": {
      "application/vnd.plotly.v1+json": {
       "config": {
        "plotlyServerURL": "https://plot.ly"
       },
       "data": [
        {
         "customdata": {
          "bdata": "ywY1BScBBAtJDXQAuALTAwsBBxc=",
          "dtype": "i2"
         },
         "hovertemplate": "<b>%{y}</b><br>Temp. média: %{x:.2f} °C<br>População: %{customdata:,}<extra></extra>",
         "marker": {
          "cmax": 52.6043587,
          "cmin": 13.1911707,
          "color": {
           "bdata": "GIZhGJCSN0C8bhXCa603QFVVVVVc9zhAJPD2Q5J4OUBKKaWUqo45QAAAAADd0zlAKVyPwplLOkAWX/EVN006QF100UXv2DpAuVggqaXtOkA=",
           "dtype": "f8"
          },
          "colorbar": {
           "thickness": 14,
           "title": {
            "text": "Temperatura média (°C)"
           }
          },
          "colorscale": [
           [
            0,
            "rgb(43,131,186)"
           ],
           [
            0.4999999999999999,
            "rgb(255,255,191)"
           ],
           [
            1,
            "rgb(215,25,28)"
           ]
          ]
         },
         "orientation": "h",
         "type": "bar",
         "x": {
          "bdata": "GIZhGJCSN0C8bhXCa603QFVVVVVc9zhAJPD2Q5J4OUBKKaWUqo45QAAAAADd0zlAKVyPwplLOkAWX/EVN006QF100UXv2DpAuVggqaXtOkA=",
          "dtype": "f8"
         },
         "y": [
          "Alto da Rivieira B / Jardim Guanguará",
          "Jardim Apura",
          "Ocupação Hospital Municipal",
          "Buraco do Sapo",
          "Sítio Arizona / Jd. Vila do Sol",
          "Vila Léo",
          "Rua Maria Trevisane",
          "Nova V",
          "Vila do Sol",
          "Vila Nova Cidade II - Invasão"
         ]
        }
       ],
       "layout": {
        "annotations": [
         {
          "font": {
           "color": "black",
           "size": 12
          },
          "showarrow": false,
          "text": "23.6°C",
          "x": 23.572511218843005,
          "xanchor": "left",
          "xshift": 6,
          "y": "Alto da Rivieira B / Jardim Guanguará",
          "yanchor": "middle"
         },
         {
          "font": {
           "color": "black",
           "size": 12
          },
          "showarrow": false,
          "text": "23.7°C",
          "x": 23.67742550872093,
          "xanchor": "left",
          "xshift": 6,
          "y": "Jardim Apura",
          "yanchor": "middle"
         },
         {
          "font": {
           "color": "black",
           "size": 12
          },
          "showarrow": false,
          "text": "25.0°C",
          "x": 24.96625264485677,
          "xanchor": "left",
          "xshift": 6,
          "y": "Ocupação Hospital Municipal",
          "yanchor": "middle"
         },
         {
          "font": {
           "color": "black",
           "size": 12
          },
          "showarrow": false,
          "text": "25.5°C",
          "x": 25.47098183420907,
          "xanchor": "left",
          "xshift": 6,
          "y": "Buraco do Sapo",
          "yanchor": "middle"
         },
         {
          "font": {
           "color": "black",
           "size": 12
          },
          "showarrow": false,
          "text": "25.6°C",
          "x": 25.55729035408266,
          "xanchor": "left",
          "xshift": 6,
          "y": "Sítio Arizona / Jd. Vila do Sol",
          "yanchor": "middle"
         },
         {
          "font": {
           "color": "black",
           "size": 12
          },
          "showarrow": false,
          "text": "25.8°C",
          "x": 25.827590942382812,
          "xanchor": "left",
          "xshift": 6,
          "y": "Vila Léo",
          "yanchor": "middle"
         },
         {
          "font": {
           "color": "black",
           "size": 12
          },
          "showarrow": false,
          "text": "26.3°C",
          "x": 26.29531494140625,
          "xanchor": "left",
          "xshift": 6,
          "y": "Rua Maria Trevisane",
          "yanchor": "middle"
         },
         {
          "font": {
           "color": "black",
           "size": 12
          },
          "showarrow": false,
          "text": "26.3°C",
          "x": 26.301621791294643,
          "xanchor": "left",
          "xshift": 6,
          "y": "Nova V",
          "yanchor": "middle"
         },
         {
          "font": {
           "color": "black",
           "size": 12
          },
          "showarrow": false,
          "text": "26.8°C",
          "x": 26.847401012073863,
          "xanchor": "left",
          "xshift": 6,
          "y": "Vila do Sol",
          "yanchor": "middle"
         },
         {
          "font": {
           "color": "black",
           "size": 12
          },
          "showarrow": false,
          "text": "26.9°C",
          "x": 26.928309030911553,
          "xanchor": "left",
          "xshift": 6,
          "y": "Vila Nova Cidade II - Invasão",
          "yanchor": "middle"
         }
        ],
        "bargap": 0.25,
        "hovermode": "y",
        "margin": {
         "b": 40,
         "l": 40,
         "r": 20,
         "t": 60
        },
        "template": {
         "data": {
          "bar": [
           {
            "error_x": {
             "color": "#2a3f5f"
            },
            "error_y": {
             "color": "#2a3f5f"
            },
            "marker": {
             "line": {
              "color": "white",
              "width": 0.5
             },
             "pattern": {
              "fillmode": "overlay",
              "size": 10,
              "solidity": 0.2
             }
            },
            "type": "bar"
           }
          ],
          "barpolar": [
           {
            "marker": {
             "line": {
              "color": "white",
              "width": 0.5
             },
             "pattern": {
              "fillmode": "overlay",
              "size": 10,
              "solidity": 0.2
             }
            },
            "type": "barpolar"
           }
          ],
          "carpet": [
           {
            "aaxis": {
             "endlinecolor": "#2a3f5f",
             "gridcolor": "#C8D4E3",
             "linecolor": "#C8D4E3",
             "minorgridcolor": "#C8D4E3",
             "startlinecolor": "#2a3f5f"
            },
            "baxis": {
             "endlinecolor": "#2a3f5f",
             "gridcolor": "#C8D4E3",
             "linecolor": "#C8D4E3",
             "minorgridcolor": "#C8D4E3",
             "startlinecolor": "#2a3f5f"
            },
            "type": "carpet"
           }
          ],
          "choropleth": [
           {
            "colorbar": {
             "outlinewidth": 0,
             "ticks": ""
            },
            "type": "choropleth"
           }
          ],
          "contour": [
           {
            "colorbar": {
             "outlinewidth": 0,
             "ticks": ""
            },
            "colorscale": [
             [
              0,
              "#0d0887"
             ],
             [
              0.1111111111111111,
              "#46039f"
             ],
             [
              0.2222222222222222,
              "#7201a8"
             ],
             [
              0.3333333333333333,
              "#9c179e"
             ],
             [
              0.4444444444444444,
              "#bd3786"
             ],
             [
              0.5555555555555556,
              "#d8576b"
             ],
             [
              0.6666666666666666,
              "#ed7953"
             ],
             [
              0.7777777777777778,
              "#fb9f3a"
             ],
             [
              0.8888888888888888,
              "#fdca26"
             ],
             [
              1,
              "#f0f921"
             ]
            ],
            "type": "contour"
           }
          ],
          "contourcarpet": [
           {
            "colorbar": {
             "outlinewidth": 0,
             "ticks": ""
            },
            "type": "contourcarpet"
           }
          ],
          "heatmap": [
           {
            "colorbar": {
             "outlinewidth": 0,
             "ticks": ""
            },
            "colorscale": [
             [
              0,
              "#0d0887"
             ],
             [
              0.1111111111111111,
              "#46039f"
             ],
             [
              0.2222222222222222,
              "#7201a8"
             ],
             [
              0.3333333333333333,
              "#9c179e"
             ],
             [
              0.4444444444444444,
              "#bd3786"
             ],
             [
              0.5555555555555556,
              "#d8576b"
             ],
             [
              0.6666666666666666,
              "#ed7953"
             ],
             [
              0.7777777777777778,
              "#fb9f3a"
             ],
             [
              0.8888888888888888,
              "#fdca26"
             ],
             [
              1,
              "#f0f921"
             ]
            ],
            "type": "heatmap"
           }
          ],
          "histogram": [
           {
            "marker": {
             "pattern": {
              "fillmode": "overlay",
              "size": 10,
              "solidity": 0.2
             }
            },
            "type": "histogram"
           }
          ],
          "histogram2d": [
           {
            "colorbar": {
             "outlinewidth": 0,
             "ticks": ""
            },
            "colorscale": [
             [
              0,
              "#0d0887"
             ],
             [
              0.1111111111111111,
              "#46039f"
             ],
             [
              0.2222222222222222,
              "#7201a8"
             ],
             [
              0.3333333333333333,
              "#9c179e"
             ],
             [
              0.4444444444444444,
              "#bd3786"
             ],
             [
              0.5555555555555556,
              "#d8576b"
             ],
             [
              0.6666666666666666,
              "#ed7953"
             ],
             [
              0.7777777777777778,
              "#fb9f3a"
             ],
             [
              0.8888888888888888,
              "#fdca26"
             ],
             [
              1,
              "#f0f921"
             ]
            ],
            "type": "histogram2d"
           }
          ],
          "histogram2dcontour": [
           {
            "colorbar": {
             "outlinewidth": 0,
             "ticks": ""
            },
            "colorscale": [
             [
              0,
              "#0d0887"
             ],
             [
              0.1111111111111111,
              "#46039f"
             ],
             [
              0.2222222222222222,
              "#7201a8"
             ],
             [
              0.3333333333333333,
              "#9c179e"
             ],
             [
              0.4444444444444444,
              "#bd3786"
             ],
             [
              0.5555555555555556,
              "#d8576b"
             ],
             [
              0.6666666666666666,
              "#ed7953"
             ],
             [
              0.7777777777777778,
              "#fb9f3a"
             ],
             [
              0.8888888888888888,
              "#fdca26"
             ],
             [
              1,
              "#f0f921"
             ]
            ],
            "type": "histogram2dcontour"
           }
          ],
          "mesh3d": [
           {
            "colorbar": {
             "outlinewidth": 0,
             "ticks": ""
            },
            "type": "mesh3d"
           }
          ],
          "parcoords": [
           {
            "line": {
             "colorbar": {
              "outlinewidth": 0,
              "ticks": ""
             }
            },
            "type": "parcoords"
           }
          ],
          "pie": [
           {
            "automargin": true,
            "type": "pie"
           }
          ],
          "scatter": [
           {
            "fillpattern": {
             "fillmode": "overlay",
             "size": 10,
             "solidity": 0.2
            },
            "type": "scatter"
           }
          ],
          "scatter3d": [
           {
            "line": {
             "colorbar": {
              "outlinewidth": 0,
              "ticks": ""
             }
            },
            "marker": {
             "colorbar": {
              "outlinewidth": 0,
              "ticks": ""
             }
            },
            "type": "scatter3d"
           }
          ],
          "scattercarpet": [
           {
            "marker": {
             "colorbar": {
              "outlinewidth": 0,
              "ticks": ""
             }
            },
            "type": "scattercarpet"
           }
          ],
          "scattergeo": [
           {
            "marker": {
             "colorbar": {
              "outlinewidth": 0,
              "ticks": ""
             }
            },
            "type": "scattergeo"
           }
          ],
          "scattergl": [
           {
            "marker": {
             "colorbar": {
              "outlinewidth": 0,
              "ticks": ""
             }
            },
            "type": "scattergl"
           }
          ],
          "scattermap": [
           {
            "marker": {
             "colorbar": {
              "outlinewidth": 0,
              "ticks": ""
             }
            },
            "type": "scattermap"
           }
          ],
          "scattermapbox": [
           {
            "marker": {
             "colorbar": {
              "outlinewidth": 0,
              "ticks": ""
             }
            },
            "type": "scattermapbox"
           }
          ],
          "scatterpolar": [
           {
            "marker": {
             "colorbar": {
              "outlinewidth": 0,
              "ticks": ""
             }
            },
            "type": "scatterpolar"
           }
          ],
          "scatterpolargl": [
           {
            "marker": {
             "colorbar": {
              "outlinewidth": 0,
              "ticks": ""
             }
            },
            "type": "scatterpolargl"
           }
          ],
          "scatterternary": [
           {
            "marker": {
             "colorbar": {
              "outlinewidth": 0,
              "ticks": ""
             }
            },
            "type": "scatterternary"
           }
          ],
          "surface": [
           {
            "colorbar": {
             "outlinewidth": 0,
             "ticks": ""
            },
            "colorscale": [
             [
              0,
              "#0d0887"
             ],
             [
              0.1111111111111111,
              "#46039f"
             ],
             [
              0.2222222222222222,
              "#7201a8"
             ],
             [
              0.3333333333333333,
              "#9c179e"
             ],
             [
              0.4444444444444444,
              "#bd3786"
             ],
             [
              0.5555555555555556,
              "#d8576b"
             ],
             [
              0.6666666666666666,
              "#ed7953"
             ],
             [
              0.7777777777777778,
              "#fb9f3a"
             ],
             [
              0.8888888888888888,
              "#fdca26"
             ],
             [
              1,
              "#f0f921"
             ]
            ],
            "type": "surface"
           }
          ],
          "table": [
           {
            "cells": {
             "fill": {
              "color": "#EBF0F8"
             },
             "line": {
              "color": "white"
             }
            },
            "header": {
             "fill": {
              "color": "#C8D4E3"
             },
             "line": {
              "color": "white"
             }
            },
            "type": "table"
           }
          ]
         },
         "layout": {
          "annotationdefaults": {
           "arrowcolor": "#2a3f5f",
           "arrowhead": 0,
           "arrowwidth": 1
          },
          "autotypenumbers": "strict",
          "coloraxis": {
           "colorbar": {
            "outlinewidth": 0,
            "ticks": ""
           }
          },
          "colorscale": {
           "diverging": [
            [
             0,
             "#8e0152"
            ],
            [
             0.1,
             "#c51b7d"
            ],
            [
             0.2,
             "#de77ae"
            ],
            [
             0.3,
             "#f1b6da"
            ],
            [
             0.4,
             "#fde0ef"
            ],
            [
             0.5,
             "#f7f7f7"
            ],
            [
             0.6,
             "#e6f5d0"
            ],
            [
             0.7,
             "#b8e186"
            ],
            [
             0.8,
             "#7fbc41"
            ],
            [
             0.9,
             "#4d9221"
            ],
            [
             1,
             "#276419"
            ]
           ],
           "sequential": [
            [
             0,
             "#0d0887"
            ],
            [
             0.1111111111111111,
             "#46039f"
            ],
            [
             0.2222222222222222,
             "#7201a8"
            ],
            [
             0.3333333333333333,
             "#9c179e"
            ],
            [
             0.4444444444444444,
             "#bd3786"
            ],
            [
             0.5555555555555556,
             "#d8576b"
            ],
            [
             0.6666666666666666,
             "#ed7953"
            ],
            [
             0.7777777777777778,
             "#fb9f3a"
            ],
            [
             0.8888888888888888,
             "#fdca26"
            ],
            [
             1,
             "#f0f921"
            ]
           ],
           "sequentialminus": [
            [
             0,
             "#0d0887"
            ],
            [
             0.1111111111111111,
             "#46039f"
            ],
            [
             0.2222222222222222,
             "#7201a8"
            ],
            [
             0.3333333333333333,
             "#9c179e"
            ],
            [
             0.4444444444444444,
             "#bd3786"
            ],
            [
             0.5555555555555556,
             "#d8576b"
            ],
            [
             0.6666666666666666,
             "#ed7953"
            ],
            [
             0.7777777777777778,
             "#fb9f3a"
            ],
            [
             0.8888888888888888,
             "#fdca26"
            ],
            [
             1,
             "#f0f921"
            ]
           ]
          },
          "colorway": [
           "#636efa",
           "#EF553B",
           "#00cc96",
           "#ab63fa",
           "#FFA15A",
           "#19d3f3",
           "#FF6692",
           "#B6E880",
           "#FF97FF",
           "#FECB52"
          ],
          "font": {
           "color": "#2a3f5f"
          },
          "geo": {
           "bgcolor": "white",
           "lakecolor": "white",
           "landcolor": "white",
           "showlakes": true,
           "showland": true,
           "subunitcolor": "#C8D4E3"
          },
          "hoverlabel": {
           "align": "left"
          },
          "hovermode": "closest",
          "mapbox": {
           "style": "light"
          },
          "paper_bgcolor": "white",
          "plot_bgcolor": "white",
          "polar": {
           "angularaxis": {
            "gridcolor": "#EBF0F8",
            "linecolor": "#EBF0F8",
            "ticks": ""
           },
           "bgcolor": "white",
           "radialaxis": {
            "gridcolor": "#EBF0F8",
            "linecolor": "#EBF0F8",
            "ticks": ""
           }
          },
          "scene": {
           "xaxis": {
            "backgroundcolor": "white",
            "gridcolor": "#DFE8F3",
            "gridwidth": 2,
            "linecolor": "#EBF0F8",
            "showbackground": true,
            "ticks": "",
            "zerolinecolor": "#EBF0F8"
           },
           "yaxis": {
            "backgroundcolor": "white",
            "gridcolor": "#DFE8F3",
            "gridwidth": 2,
            "linecolor": "#EBF0F8",
            "showbackground": true,
            "ticks": "",
            "zerolinecolor": "#EBF0F8"
           },
           "zaxis": {
            "backgroundcolor": "white",
            "gridcolor": "#DFE8F3",
            "gridwidth": 2,
            "linecolor": "#EBF0F8",
            "showbackground": true,
            "ticks": "",
            "zerolinecolor": "#EBF0F8"
           }
          },
          "shapedefaults": {
           "line": {
            "color": "#2a3f5f"
           }
          },
          "ternary": {
           "aaxis": {
            "gridcolor": "#DFE8F3",
            "linecolor": "#A2B1C6",
            "ticks": ""
           },
           "baxis": {
            "gridcolor": "#DFE8F3",
            "linecolor": "#A2B1C6",
            "ticks": ""
           },
           "bgcolor": "white",
           "caxis": {
            "gridcolor": "#DFE8F3",
            "linecolor": "#A2B1C6",
            "ticks": ""
           }
          },
          "title": {
           "x": 0.05
          },
          "xaxis": {
           "automargin": true,
           "gridcolor": "#EBF0F8",
           "linecolor": "#EBF0F8",
           "ticks": "",
           "title": {
            "standoff": 15
           },
           "zerolinecolor": "#EBF0F8",
           "zerolinewidth": 2
          },
          "yaxis": {
           "automargin": true,
           "gridcolor": "#EBF0F8",
           "linecolor": "#EBF0F8",
           "ticks": "",
           "title": {
            "standoff": 15
           },
           "zerolinecolor": "#EBF0F8",
           "zerolinewidth": 2
          }
         }
        },
        "title": {
         "text": "Top 10 favelas mais frias"
        },
        "xaxis": {
         "dtick": 5,
         "range": [
          0,
          50
         ],
         "tick0": 0,
         "title": {
          "text": "Temperatura média (°C)"
         }
        },
        "yaxis": {
         "categoryarray": [
          "Vila Nova Cidade II - Invasão",
          "Vila do Sol",
          "Nova V",
          "Rua Maria Trevisane",
          "Vila Léo",
          "Sítio Arizona / Jd. Vila do Sol",
          "Buraco do Sapo",
          "Ocupação Hospital Municipal",
          "Jardim Apura",
          "Alto da Rivieira B / Jardim Guanguará"
         ],
         "categoryorder": "array",
         "title": {
          "text": "Favela"
         }
        }
       }
      }
     },
     "metadata": {},
     "output_type": "display_data"
    }
   ],
   "source": [
    "# %% [markdown]\n",
    "# Top 10 favelas mais quentes e mais frias (barras horizontais)\n",
    "# - Comprimento da barra = temp_media (°C)\n",
    "# - Cor = temp_media com rampa do QML (data/mapa_base.qml)\n",
    "# - Hover mostra temp e Pop_2022\n",
    "# - Ordenação com o \"extremo\" no topo\n",
    "# - Eixo X comum (0 → teto arredondado em múltiplos de 5)\n",
    "\n",
    "import numpy as np\n",
    "import plotly.graph_objects as go\n",
    "\n",
    "def _prep_top10_por_temp(gdf_favelas: pd.DataFrame, mais_quentes: bool) -> pd.DataFrame:\n",
    "    df = gdf_favelas[[\"nm_fcu\", \"Pop_2022\", \"temp_media\"]].copy()\n",
    "    df[\"Pop_2022\"] = pd.to_numeric(df[\"Pop_2022\"], errors=\"coerce\")\n",
    "    df[\"temp_media\"] = pd.to_numeric(df[\"temp_media\"], errors=\"coerce\")\n",
    "    df = df.dropna(subset=[\"nm_fcu\", \"Pop_2022\", \"temp_media\"])\n",
    "\n",
    "    if mais_quentes:\n",
    "        dfx = df.sort_values(\"temp_media\", ascending=False).head(10).copy()\n",
    "    else:\n",
    "        dfx = df.sort_values(\"temp_media\", ascending=True).head(10).copy()\n",
    "    return dfx\n",
    "\n",
    "def grafico_top10_por_temperatura(\n",
    "    gdf_favelas,\n",
    "    qml_path: Path,\n",
    "    mais_quentes: bool = True,\n",
    "    temp_max_global: float | None = None\n",
    "):\n",
    "    # rampa do QML\n",
    "    stops = parse_qml_colorramp(qml_path)\n",
    "    colorscale, cmin, cmax = build_plotly_colorscale_from_qml(stops)\n",
    "\n",
    "    dfx = _prep_top10_por_temp(gdf_favelas, mais_quentes)\n",
    "    titulo = \"Top 10 favelas mais quentes\" if mais_quentes else \"Top 10 favelas mais frias\"\n",
    "\n",
    "    fig = go.Figure()\n",
    "    fig.add_bar(\n",
    "        x=dfx[\"temp_media\"],\n",
    "        y=dfx[\"nm_fcu\"],\n",
    "        orientation=\"h\",\n",
    "        marker=dict(\n",
    "            color=dfx[\"temp_media\"],\n",
    "            colorscale=colorscale,\n",
    "            cmin=cmin,\n",
    "            cmax=cmax,\n",
    "            colorbar=dict(title=\"Temperatura média (°C)\", thickness=14)\n",
    "        ),\n",
    "        hovertemplate=\"<b>%{y}</b><br>Temp. média: %{x:.2f} °C<br>População: %{customdata:,}<extra></extra>\",\n",
    "        customdata=dfx[\"Pop_2022\"].values,\n",
    "    )\n",
    "\n",
    "    # rótulos de temperatura no fim da barra\n",
    "    for y, temp in zip(dfx[\"nm_fcu\"], dfx[\"temp_media\"]):\n",
    "        fig.add_annotation(\n",
    "            x=float(temp),\n",
    "            y=y,\n",
    "            text=f\"{temp:.1f}°C\",\n",
    "            showarrow=False,\n",
    "            xshift=6,\n",
    "            font=dict(size=12, color=\"black\"),\n",
    "            xanchor=\"left\",\n",
    "            yanchor=\"middle\"\n",
    "        )\n",
    "\n",
    "    fig.update_layout(\n",
    "        title=titulo,\n",
    "        xaxis_title=\"Temperatura média (°C)\",\n",
    "        yaxis_title=\"Favela\",\n",
    "        bargap=0.25,\n",
    "        template=\"plotly_white\",\n",
    "        margin=dict(l=40, r=20, t=60, b=40),\n",
    "        hovermode=\"y\",\n",
    "    )\n",
    "\n",
    "    # ORDEM DO EIXO Y (extremo no topo)\n",
    "    if mais_quentes:\n",
    "        order = dfx.sort_values(\"temp_media\", ascending=True)[\"nm_fcu\"].tolist()\n",
    "    else:\n",
    "        order = dfx.sort_values(\"temp_media\", ascending=False)[\"nm_fcu\"].tolist()\n",
    "    fig.update_yaxes(categoryorder=\"array\", categoryarray=order)\n",
    "\n",
    "    # ESCALA GLOBAL (0 → teto comum, arredondado para múltiplos de 5)\n",
    "    if temp_max_global is None:\n",
    "        temp_series = pd.to_numeric(gdf_favelas[\"temp_media\"], errors=\"coerce\")\n",
    "        temp_max_global = float(np.nanmax(temp_series.values))\n",
    "    temp_max_global = int(np.ceil(temp_max_global / 5.0) * 5.0)\n",
    "    fig.update_xaxes(range=[0, temp_max_global], dtick=5, tick0=0)\n",
    "\n",
    "    return fig\n",
    "\n",
    "# === calcular teto global \"bonito\" uma única vez (opcional, mas explícito) ===\n",
    "_temp_series = pd.to_numeric(gdf_favelas[\"temp_media\"], errors=\"coerce\")\n",
    "_temp_max_observado = float(np.nanmax(_temp_series.values))\n",
    "temp_max_global_nice = int(np.ceil(_temp_max_observado / 5.0) * 5.0)\n",
    "\n",
    "# === gerar as figuras já usando o mesmo teto ===\n",
    "fig_quentes = grafico_top10_por_temperatura(\n",
    "    gdf_favelas, qml_path, mais_quentes=True,  temp_max_global=temp_max_global_nice\n",
    ")\n",
    "fig_frias   = grafico_top10_por_temperatura(\n",
    "    gdf_favelas, qml_path, mais_quentes=False, temp_max_global=temp_max_global_nice\n",
    ")\n",
    "\n",
    "fig_quentes.show()\n",
    "fig_frias.show()\n",
    "\n",
    "# (opcional) salvar\n",
    "# out_dir = Path(\"outputs/figures\"); out_dir.mkdir(parents=True, exist_ok=True)\n",
    "# fig_quentes.write_html(out_dir / \"top10_favelas_mais_quentes.html\", include_plotlyjs=\"cdn\")\n",
    "# fig_frias.write_html(out_dir / \"top10_favelas_mais_frias.html\", include_plotlyjs=\"cdn\")\n"
   ]
  }
 ],
 "metadata": {
  "language_info": {
   "name": "python"
  }
 },
 "nbformat": 4,
 "nbformat_minor": 5
}
